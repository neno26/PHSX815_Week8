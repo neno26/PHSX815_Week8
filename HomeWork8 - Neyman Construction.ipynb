{
 "cells": [
  {
   "cell_type": "markdown",
   "metadata": {},
   "source": [
    "- Write code for a simple model with at least one parameter (like coin probability, normal distr. mean, etc.) and an observable related to that parameter\n",
    "\n",
    "- Create a figure of the \"Neyman Construction\" (see March 23 lecture), i.e. make a 2D plot with \"true\" parameter value on the x-axis and \"measured\" value on the y-axis, sampling many random experiments for each true value \n",
    "\n",
    "- Bonus (not worth additional points) - pretend that you did the experiment and measured a particular value of the parameter. What are the \"error\"'s/what is the posterior distribution for the parameter after the measurement? (you can get this from your 2D plot by looking at the 1D slice from the 2D histogram corresponding to the \"measured\" value)."
   ]
  },
  {
   "cell_type": "code",
   "execution_count": 13,
   "metadata": {},
   "outputs": [],
   "source": [
    "import numpy as np\n",
    "from numpy import c_\n",
    "import matplotlib.pyplot as plt\n",
    "import random"
   ]
  },
  {
   "cell_type": "code",
   "execution_count": 23,
   "metadata": {},
   "outputs": [],
   "source": [
    "# My function:\n",
    "def Gauss(numbs,mu_true, sigma):\n",
    "    return 1./(np.sqrt(2.*np.pi)*sigma)*np.exp(-np.power((numbs - mu_true)/sigma, 2.)/2)"
   ]
  },
  {
   "cell_type": "code",
   "execution_count": 143,
   "metadata": {},
   "outputs": [],
   "source": [
    "Nmeas = 10\n",
    "Nexp  = 100000\n",
    "bounds = 100\n",
    "\n",
    "mu_experiment = 0\n",
    "\n",
    "mu_true = 0\n",
    "mu_best = 0\n",
    "sigma = 1\n",
    "\n",
    "#2D histogram \n",
    "X_Mu_True = [] #We will combines the two into a 2d plot using mathplot lib his2d\n",
    "Y_Mu_Best = []  \n",
    "\n",
    "# 3Neyman construction being implemented\n",
    "for i in range(-bounds,bounds,1):\n",
    "    mu_true = float(i)/10.\n",
    "    \n",
    "    for e in range (0,Nmeas):\n",
    "        mu_best = 0\n",
    "        for p in range(0,Nmeas):\n",
    "            rando = random.random()\n",
    "            x = Gauss(rando, mu_true, sigma)\n",
    "            mu_best += x\n",
    "        \n",
    "        # our \"measurement\" for mu best fit\n",
    "        mu_best = mu_best / float(Nmeas);\n",
    "        Y_Mu_Best.append(mu_best)\n",
    "        X_Mu_True.append(mu_true)\n",
    "        "
   ]
  },
  {
   "cell_type": "code",
   "execution_count": 111,
   "metadata": {},
   "outputs": [
    {
     "name": "stdout",
     "output_type": "stream",
     "text": [
      "2000\n",
      "2000\n"
     ]
    }
   ],
   "source": [
    "print(len(X_Mu_True))\n",
    "print(len(Y_Mu_Best))"
   ]
  },
  {
   "cell_type": "code",
   "execution_count": 145,
   "metadata": {},
   "outputs": [
    {
     "data": {
      "text/plain": [
       "<matplotlib.colorbar.Colorbar at 0x20c02986400>"
      ]
     },
     "execution_count": 145,
     "metadata": {},
     "output_type": "execute_result"
    },
    {
     "data": {
      "image/png": "[encoded data removed]",
      "text/plain": [
       "<Figure size 432x288 with 2 Axes>"
      ]
     },
     "metadata": {
      "needs_background": "light"
     },
     "output_type": "display_data"
    }
   ],
   "source": [
    "x_min = np.min(X_Mu_True)\n",
    "x_max = np.max(X_Mu_True)\n",
    "\n",
    "y_min = np.min(Y_Mu_Best)\n",
    "y_max = np.max(Y_Mu_Best)\n",
    "\n",
    "x_bins = np.linspace(x_min,x_max,70)\n",
    "y_bins = np.linspace(y_min,y_max,70)\n",
    "\n",
    "plt.title(\"Searching for the True alpha \")\n",
    "plt.xlabel('$\\mu$_True')\n",
    "plt.ylabel('$\\mu$_Best')\n",
    "plt.hist2d(X_Mu_True,Y_Mu_Best, bins=[x_bins,y_bins], cmap=plt.cm.jet)\n",
    "plt.colorbar()\n"
   ]
  },
  {
   "cell_type": "code",
   "execution_count": null,
   "metadata": {},
   "outputs": [],
   "source": []
  }
 ],
 "metadata": {
  "kernelspec": {
   "display_name": "Python 3",
   "language": "python",
   "name": "python3"
  },
  "language_info": {
   "codemirror_mode": {
    "name": "ipython",
    "version": 3
   },
   "file_extension": ".py",
   "mimetype": "text/x-python",
   "name": "python",
   "nbconvert_exporter": "python",
   "pygments_lexer": "ipython3",
   "version": "3.8.5"
  }
 },
 "nbformat": 4,
 "nbformat_minor": 4
}
